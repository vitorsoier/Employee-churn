{
 "cells": [
  {
   "cell_type": "markdown",
   "metadata": {},
   "source": [
    "# Sistema de detecção de turn over"
   ]
  },
  {
   "cell_type": "markdown",
   "metadata": {},
   "source": [
    "## Súmario\n",
    "\n",
    "- 1 Problema\n",
    "    - 1.1 Definição do problema\n",
    "    - 1.2 Abordagem do problema\n",
    "- 2 Importando dataset"
   ]
  },
  {
   "cell_type": "markdown",
   "metadata": {},
   "source": [
    "## Problema"
   ]
  },
  {
   "cell_type": "markdown",
   "metadata": {},
   "source": [
    "### Definição do problema"
   ]
  },
  {
   "cell_type": "markdown",
   "metadata": {},
   "source": [
    "Um dos desafios significativos que toda empresa enfrenta é o fenômeno conhecido como 'churn', que se refere à saída de funcionários. Esta rotatividade não apenas implica custos financeiros consideráveis, mas também acarreta esforços adicionais na busca por substitutos adequados e pode resultar em acúmulo ou atraso nas tarefas da equipe. Quando uma empresa consegue antecipar a intenção de um funcionário em deixar a organização, ela tem a oportunidade de tomar medidas proativas. Isso pode envolver a implementação de estratégias para reter o funcionário ou, ao mesmo tempo, iniciar a busca por um novo profissional no mercado de trabalho."
   ]
  },
  {
   "cell_type": "markdown",
   "metadata": {},
   "source": [
    "### Abordagem do problema"
   ]
  },
  {
   "cell_type": "markdown",
   "metadata": {},
   "source": [
    "Ao enfrentar o desafio da saída de funcionários, é essencial focar em três aspectos principais:\n",
    "\n",
    "1. **Probabilidade de Saída:** O primeiro passo é identificar a probabilidade de um funcionário deixar a empresa\n",
    "\n",
    "2. **Indicadores de Saída:** Além da probabilidade, é importante compreender os indicadores que apontam para a saída iminente de um funcionário\n",
    "\n",
    "3. **Políticas de Retenção:** Uma vez identificados os funcionários em risco, é crucial estabelecer políticas eficazes para retê-los\n",
    "\n",
    "Para abordar esses aspectos, exploraremos o conjunto de dados disponível, buscando padrões que diferenciem os funcionários que permaneceram na empresa daqueles que saíram. É importante destacar que estamos diante de um problema de aprendizado supervisionado, uma vez que possuímos rótulos para o \"churn\" (nosso alvo), o que nos permite treinar modelos preditivos para identificar e gerenciar o risco de saída de funcionários."
   ]
  }
 ],
 "metadata": {
  "language_info": {
   "name": "python"
  }
 },
 "nbformat": 4,
 "nbformat_minor": 2
}
